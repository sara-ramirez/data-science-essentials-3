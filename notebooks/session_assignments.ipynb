{
 "cells": [
  {
   "cell_type": "code",
   "execution_count": 1,
   "metadata": {},
   "outputs": [],
   "source": [
    "import pandas as pd\n",
    "import matplotlib.pyplot as plt\n",
    "import seaborn as sns\n",
    "\n",
    "%matplotlib inline "
   ]
  },
  {
   "cell_type": "markdown",
   "metadata": {},
   "source": [
    "# Week 1"
   ]
  },
  {
   "cell_type": "markdown",
   "metadata": {},
   "source": [
    "### Create a DataFrame, ha_costs_df, from the mmd_heart_attack_data.csv file.\n",
    "\n",
    "* Examine the first 5 rows and the last five rows of the TN heart attack data.\n",
    "* Check the data types of each column by using .info.\n",
    "* Keep only the rows where facilities are in TN.\n",
    "* Print the dimensions of the resulting dataframe.\n",
    "* How many TN counties are represented in the heart attack costs data?\n",
    "* How many counties are classified as urban? How many as rural?\n",
    "\n"
   ]
  },
  {
   "cell_type": "code",
   "execution_count": 2,
   "metadata": {},
   "outputs": [],
   "source": [
    "# create ha_cost_df from mmd_heart_attack_data.csv\n",
    "ha_costs_df = pd.read_csv('../data/mmd_heart_attack_data.csv')"
   ]
  },
  {
   "cell_type": "code",
   "execution_count": 3,
   "metadata": {},
   "outputs": [
    {
     "data": {
      "text/html": [
       "<div>\n",
       "<style scoped>\n",
       "    .dataframe tbody tr th:only-of-type {\n",
       "        vertical-align: middle;\n",
       "    }\n",
       "\n",
       "    .dataframe tbody tr th {\n",
       "        vertical-align: top;\n",
       "    }\n",
       "\n",
       "    .dataframe thead th {\n",
       "        text-align: right;\n",
       "    }\n",
       "</style>\n",
       "<table border=\"1\" class=\"dataframe\">\n",
       "  <thead>\n",
       "    <tr style=\"text-align: right;\">\n",
       "      <th></th>\n",
       "      <th>year</th>\n",
       "      <th>geography</th>\n",
       "      <th>measure</th>\n",
       "      <th>adjustment</th>\n",
       "      <th>analysis</th>\n",
       "      <th>domain</th>\n",
       "      <th>condition</th>\n",
       "      <th>primary_sex</th>\n",
       "      <th>primary_age</th>\n",
       "      <th>primary_dual</th>\n",
       "      <th>fips</th>\n",
       "      <th>county</th>\n",
       "      <th>state</th>\n",
       "      <th>urban</th>\n",
       "      <th>primary_race</th>\n",
       "      <th>primary_denominator</th>\n",
       "      <th>analysis_value</th>\n",
       "    </tr>\n",
       "  </thead>\n",
       "  <tbody>\n",
       "    <tr>\n",
       "      <th>0</th>\n",
       "      <td>2017</td>\n",
       "      <td>County</td>\n",
       "      <td>Average total cost</td>\n",
       "      <td>Unsmoothed actual</td>\n",
       "      <td>Base measure</td>\n",
       "      <td>Primary chronic conditions</td>\n",
       "      <td>Acute myocardial infarction</td>\n",
       "      <td>All</td>\n",
       "      <td>All</td>\n",
       "      <td>Dual &amp; non-dual</td>\n",
       "      <td>1001</td>\n",
       "      <td>Autauga County</td>\n",
       "      <td>ALABAMA</td>\n",
       "      <td>Urban</td>\n",
       "      <td>All</td>\n",
       "      <td>undefined</td>\n",
       "      <td>40470</td>\n",
       "    </tr>\n",
       "    <tr>\n",
       "      <th>1</th>\n",
       "      <td>2017</td>\n",
       "      <td>County</td>\n",
       "      <td>Average total cost</td>\n",
       "      <td>Unsmoothed actual</td>\n",
       "      <td>Base measure</td>\n",
       "      <td>Primary chronic conditions</td>\n",
       "      <td>Acute myocardial infarction</td>\n",
       "      <td>All</td>\n",
       "      <td>All</td>\n",
       "      <td>Dual &amp; non-dual</td>\n",
       "      <td>1003</td>\n",
       "      <td>Baldwin County</td>\n",
       "      <td>ALABAMA</td>\n",
       "      <td>Rural</td>\n",
       "      <td>All</td>\n",
       "      <td>undefined</td>\n",
       "      <td>36615</td>\n",
       "    </tr>\n",
       "    <tr>\n",
       "      <th>2</th>\n",
       "      <td>2017</td>\n",
       "      <td>County</td>\n",
       "      <td>Average total cost</td>\n",
       "      <td>Unsmoothed actual</td>\n",
       "      <td>Base measure</td>\n",
       "      <td>Primary chronic conditions</td>\n",
       "      <td>Acute myocardial infarction</td>\n",
       "      <td>All</td>\n",
       "      <td>All</td>\n",
       "      <td>Dual &amp; non-dual</td>\n",
       "      <td>1005</td>\n",
       "      <td>Barbour County</td>\n",
       "      <td>ALABAMA</td>\n",
       "      <td>Rural</td>\n",
       "      <td>All</td>\n",
       "      <td>undefined</td>\n",
       "      <td>46509</td>\n",
       "    </tr>\n",
       "    <tr>\n",
       "      <th>3</th>\n",
       "      <td>2017</td>\n",
       "      <td>County</td>\n",
       "      <td>Average total cost</td>\n",
       "      <td>Unsmoothed actual</td>\n",
       "      <td>Base measure</td>\n",
       "      <td>Primary chronic conditions</td>\n",
       "      <td>Acute myocardial infarction</td>\n",
       "      <td>All</td>\n",
       "      <td>All</td>\n",
       "      <td>Dual &amp; non-dual</td>\n",
       "      <td>1007</td>\n",
       "      <td>Bibb County</td>\n",
       "      <td>ALABAMA</td>\n",
       "      <td>Urban</td>\n",
       "      <td>All</td>\n",
       "      <td>undefined</td>\n",
       "      <td>42949</td>\n",
       "    </tr>\n",
       "    <tr>\n",
       "      <th>4</th>\n",
       "      <td>2017</td>\n",
       "      <td>County</td>\n",
       "      <td>Average total cost</td>\n",
       "      <td>Unsmoothed actual</td>\n",
       "      <td>Base measure</td>\n",
       "      <td>Primary chronic conditions</td>\n",
       "      <td>Acute myocardial infarction</td>\n",
       "      <td>All</td>\n",
       "      <td>All</td>\n",
       "      <td>Dual &amp; non-dual</td>\n",
       "      <td>1009</td>\n",
       "      <td>Blount County</td>\n",
       "      <td>ALABAMA</td>\n",
       "      <td>Urban</td>\n",
       "      <td>All</td>\n",
       "      <td>undefined</td>\n",
       "      <td>50067</td>\n",
       "    </tr>\n",
       "  </tbody>\n",
       "</table>\n",
       "</div>"
      ],
      "text/plain": [
       "   year geography             measure         adjustment      analysis  \\\n",
       "0  2017    County  Average total cost  Unsmoothed actual  Base measure   \n",
       "1  2017    County  Average total cost  Unsmoothed actual  Base measure   \n",
       "2  2017    County  Average total cost  Unsmoothed actual  Base measure   \n",
       "3  2017    County  Average total cost  Unsmoothed actual  Base measure   \n",
       "4  2017    County  Average total cost  Unsmoothed actual  Base measure   \n",
       "\n",
       "                       domain                    condition primary_sex  \\\n",
       "0  Primary chronic conditions  Acute myocardial infarction         All   \n",
       "1  Primary chronic conditions  Acute myocardial infarction         All   \n",
       "2  Primary chronic conditions  Acute myocardial infarction         All   \n",
       "3  Primary chronic conditions  Acute myocardial infarction         All   \n",
       "4  Primary chronic conditions  Acute myocardial infarction         All   \n",
       "\n",
       "  primary_age     primary_dual  fips          county    state  urban  \\\n",
       "0         All  Dual & non-dual  1001  Autauga County  ALABAMA  Urban   \n",
       "1         All  Dual & non-dual  1003  Baldwin County  ALABAMA  Rural   \n",
       "2         All  Dual & non-dual  1005  Barbour County  ALABAMA  Rural   \n",
       "3         All  Dual & non-dual  1007     Bibb County  ALABAMA  Urban   \n",
       "4         All  Dual & non-dual  1009   Blount County  ALABAMA  Urban   \n",
       "\n",
       "  primary_race primary_denominator  analysis_value  \n",
       "0          All           undefined           40470  \n",
       "1          All           undefined           36615  \n",
       "2          All           undefined           46509  \n",
       "3          All           undefined           42949  \n",
       "4          All           undefined           50067  "
      ]
     },
     "execution_count": 3,
     "metadata": {},
     "output_type": "execute_result"
    }
   ],
   "source": [
    "ha_costs_df.head() # examines first 5 rows of df"
   ]
  },
  {
   "cell_type": "code",
   "execution_count": 4,
   "metadata": {},
   "outputs": [
    {
     "data": {
      "text/html": [
       "<div>\n",
       "<style scoped>\n",
       "    .dataframe tbody tr th:only-of-type {\n",
       "        vertical-align: middle;\n",
       "    }\n",
       "\n",
       "    .dataframe tbody tr th {\n",
       "        vertical-align: top;\n",
       "    }\n",
       "\n",
       "    .dataframe thead th {\n",
       "        text-align: right;\n",
       "    }\n",
       "</style>\n",
       "<table border=\"1\" class=\"dataframe\">\n",
       "  <thead>\n",
       "    <tr style=\"text-align: right;\">\n",
       "      <th></th>\n",
       "      <th>year</th>\n",
       "      <th>geography</th>\n",
       "      <th>measure</th>\n",
       "      <th>adjustment</th>\n",
       "      <th>analysis</th>\n",
       "      <th>domain</th>\n",
       "      <th>condition</th>\n",
       "      <th>primary_sex</th>\n",
       "      <th>primary_age</th>\n",
       "      <th>primary_dual</th>\n",
       "      <th>fips</th>\n",
       "      <th>county</th>\n",
       "      <th>state</th>\n",
       "      <th>urban</th>\n",
       "      <th>primary_race</th>\n",
       "      <th>primary_denominator</th>\n",
       "      <th>analysis_value</th>\n",
       "    </tr>\n",
       "  </thead>\n",
       "  <tbody>\n",
       "    <tr>\n",
       "      <th>2651</th>\n",
       "      <td>2017</td>\n",
       "      <td>County</td>\n",
       "      <td>Average total cost</td>\n",
       "      <td>Unsmoothed actual</td>\n",
       "      <td>Base measure</td>\n",
       "      <td>Primary chronic conditions</td>\n",
       "      <td>Acute myocardial infarction</td>\n",
       "      <td>All</td>\n",
       "      <td>All</td>\n",
       "      <td>Dual &amp; non-dual</td>\n",
       "      <td>72097</td>\n",
       "      <td>Mayaguez Municipio</td>\n",
       "      <td>PUERTO RICO</td>\n",
       "      <td>Urban</td>\n",
       "      <td>All</td>\n",
       "      <td>undefined</td>\n",
       "      <td>28128</td>\n",
       "    </tr>\n",
       "    <tr>\n",
       "      <th>2652</th>\n",
       "      <td>2017</td>\n",
       "      <td>County</td>\n",
       "      <td>Average total cost</td>\n",
       "      <td>Unsmoothed actual</td>\n",
       "      <td>Base measure</td>\n",
       "      <td>Primary chronic conditions</td>\n",
       "      <td>Acute myocardial infarction</td>\n",
       "      <td>All</td>\n",
       "      <td>All</td>\n",
       "      <td>Dual &amp; non-dual</td>\n",
       "      <td>72113</td>\n",
       "      <td>Ponce Municipio</td>\n",
       "      <td>PUERTO RICO</td>\n",
       "      <td>Urban</td>\n",
       "      <td>All</td>\n",
       "      <td>undefined</td>\n",
       "      <td>26403</td>\n",
       "    </tr>\n",
       "    <tr>\n",
       "      <th>2653</th>\n",
       "      <td>2017</td>\n",
       "      <td>County</td>\n",
       "      <td>Average total cost</td>\n",
       "      <td>Unsmoothed actual</td>\n",
       "      <td>Base measure</td>\n",
       "      <td>Primary chronic conditions</td>\n",
       "      <td>Acute myocardial infarction</td>\n",
       "      <td>All</td>\n",
       "      <td>All</td>\n",
       "      <td>Dual &amp; non-dual</td>\n",
       "      <td>72125</td>\n",
       "      <td>San German Municipio</td>\n",
       "      <td>PUERTO RICO</td>\n",
       "      <td>Urban</td>\n",
       "      <td>All</td>\n",
       "      <td>undefined</td>\n",
       "      <td>26398</td>\n",
       "    </tr>\n",
       "    <tr>\n",
       "      <th>2654</th>\n",
       "      <td>2017</td>\n",
       "      <td>County</td>\n",
       "      <td>Average total cost</td>\n",
       "      <td>Unsmoothed actual</td>\n",
       "      <td>Base measure</td>\n",
       "      <td>Primary chronic conditions</td>\n",
       "      <td>Acute myocardial infarction</td>\n",
       "      <td>All</td>\n",
       "      <td>All</td>\n",
       "      <td>Dual &amp; non-dual</td>\n",
       "      <td>72127</td>\n",
       "      <td>San Juan Municipio</td>\n",
       "      <td>PUERTO RICO</td>\n",
       "      <td>Urban</td>\n",
       "      <td>All</td>\n",
       "      <td>undefined</td>\n",
       "      <td>36599</td>\n",
       "    </tr>\n",
       "    <tr>\n",
       "      <th>2655</th>\n",
       "      <td>2017</td>\n",
       "      <td>County</td>\n",
       "      <td>Average total cost</td>\n",
       "      <td>Unsmoothed actual</td>\n",
       "      <td>Base measure</td>\n",
       "      <td>Primary chronic conditions</td>\n",
       "      <td>Acute myocardial infarction</td>\n",
       "      <td>All</td>\n",
       "      <td>All</td>\n",
       "      <td>Dual &amp; non-dual</td>\n",
       "      <td>72139</td>\n",
       "      <td>Trujillo Alto Municipio</td>\n",
       "      <td>PUERTO RICO</td>\n",
       "      <td>Urban</td>\n",
       "      <td>All</td>\n",
       "      <td>undefined</td>\n",
       "      <td>26676</td>\n",
       "    </tr>\n",
       "  </tbody>\n",
       "</table>\n",
       "</div>"
      ],
      "text/plain": [
       "      year geography             measure         adjustment      analysis  \\\n",
       "2651  2017    County  Average total cost  Unsmoothed actual  Base measure   \n",
       "2652  2017    County  Average total cost  Unsmoothed actual  Base measure   \n",
       "2653  2017    County  Average total cost  Unsmoothed actual  Base measure   \n",
       "2654  2017    County  Average total cost  Unsmoothed actual  Base measure   \n",
       "2655  2017    County  Average total cost  Unsmoothed actual  Base measure   \n",
       "\n",
       "                          domain                    condition primary_sex  \\\n",
       "2651  Primary chronic conditions  Acute myocardial infarction         All   \n",
       "2652  Primary chronic conditions  Acute myocardial infarction         All   \n",
       "2653  Primary chronic conditions  Acute myocardial infarction         All   \n",
       "2654  Primary chronic conditions  Acute myocardial infarction         All   \n",
       "2655  Primary chronic conditions  Acute myocardial infarction         All   \n",
       "\n",
       "     primary_age     primary_dual   fips                   county  \\\n",
       "2651         All  Dual & non-dual  72097       Mayaguez Municipio   \n",
       "2652         All  Dual & non-dual  72113          Ponce Municipio   \n",
       "2653         All  Dual & non-dual  72125     San German Municipio   \n",
       "2654         All  Dual & non-dual  72127       San Juan Municipio   \n",
       "2655         All  Dual & non-dual  72139  Trujillo Alto Municipio   \n",
       "\n",
       "            state  urban primary_race primary_denominator  analysis_value  \n",
       "2651  PUERTO RICO  Urban          All           undefined           28128  \n",
       "2652  PUERTO RICO  Urban          All           undefined           26403  \n",
       "2653  PUERTO RICO  Urban          All           undefined           26398  \n",
       "2654  PUERTO RICO  Urban          All           undefined           36599  \n",
       "2655  PUERTO RICO  Urban          All           undefined           26676  "
      ]
     },
     "execution_count": 4,
     "metadata": {},
     "output_type": "execute_result"
    }
   ],
   "source": [
    "ha_costs_df.tail() # examines last 5 rows of df"
   ]
  },
  {
   "cell_type": "code",
   "execution_count": 5,
   "metadata": {},
   "outputs": [
    {
     "name": "stdout",
     "output_type": "stream",
     "text": [
      "<class 'pandas.core.frame.DataFrame'>\n",
      "RangeIndex: 2656 entries, 0 to 2655\n",
      "Data columns (total 17 columns):\n",
      " #   Column               Non-Null Count  Dtype \n",
      "---  ------               --------------  ----- \n",
      " 0   year                 2656 non-null   int64 \n",
      " 1   geography            2656 non-null   object\n",
      " 2   measure              2656 non-null   object\n",
      " 3   adjustment           2656 non-null   object\n",
      " 4   analysis             2656 non-null   object\n",
      " 5   domain               2656 non-null   object\n",
      " 6   condition            2656 non-null   object\n",
      " 7   primary_sex          2656 non-null   object\n",
      " 8   primary_age          2656 non-null   object\n",
      " 9   primary_dual         2656 non-null   object\n",
      " 10  fips                 2656 non-null   int64 \n",
      " 11  county               2656 non-null   object\n",
      " 12  state                2656 non-null   object\n",
      " 13  urban                2656 non-null   object\n",
      " 14  primary_race         2656 non-null   object\n",
      " 15  primary_denominator  2656 non-null   object\n",
      " 16  analysis_value       2656 non-null   int64 \n",
      "dtypes: int64(3), object(14)\n",
      "memory usage: 352.9+ KB\n"
     ]
    }
   ],
   "source": [
    "ha_costs_df.info() # use .info to check datatypes in df"
   ]
  },
  {
   "cell_type": "code",
   "execution_count": 6,
   "metadata": {},
   "outputs": [],
   "source": [
    "ha_costs_tn = ha_costs_df.loc[ha_costs_df['state'] == 'TENNESSEE'] # select rows where facilities are in tn"
   ]
  },
  {
   "cell_type": "code",
   "execution_count": 7,
   "metadata": {},
   "outputs": [
    {
     "name": "stdout",
     "output_type": "stream",
     "text": [
      "(91, 17)\n"
     ]
    }
   ],
   "source": [
    "print(ha_costs_tn.shape) # gives you dimensions of df as (rows, columns)"
   ]
  },
  {
   "cell_type": "code",
   "execution_count": 8,
   "metadata": {},
   "outputs": [
    {
     "data": {
      "text/plain": [
       "91"
      ]
     },
     "execution_count": 8,
     "metadata": {},
     "output_type": "execute_result"
    }
   ],
   "source": [
    "ha_costs_tn['county'].nunique() # gives you number of unique values in column 'county'"
   ]
  },
  {
   "cell_type": "code",
   "execution_count": 9,
   "metadata": {},
   "outputs": [
    {
     "data": {
      "text/plain": [
       "Rural    53\n",
       "Urban    38\n",
       "Name: urban, dtype: int64"
      ]
     },
     "execution_count": 9,
     "metadata": {},
     "output_type": "execute_result"
    }
   ],
   "source": [
    "ha_costs_tn['urban'].value_counts() # returns a Series containing counts of unique values\n",
    "# descending order so that the first element is the most frequently-occurring element. "
   ]
  },
  {
   "cell_type": "markdown",
   "metadata": {},
   "source": [
    "### Create a DataFrame, cancer_costs_df, from the mmd_cancer_data.csv file.\n",
    "\n",
    "* Look at the head and tail of the DataFrame.\n",
    "* Keep only the rows where facilities are in TN.\n",
    "* Print the dimensions of the data. How many TN counties are represented in the cancer costs data?\n",
    "* You should have found that the datasets have a different number of counties. \n",
    "* Bonus: Can you figure out which counties are missing from one of the datasets?"
   ]
  },
  {
   "cell_type": "code",
   "execution_count": 10,
   "metadata": {},
   "outputs": [],
   "source": [
    "# create cancer_costs_df from mmd_cancer_data.csv\n",
    "cancer_costs_df = pd.read_csv('../data/mmd_cancer_data.csv')"
   ]
  },
  {
   "cell_type": "code",
   "execution_count": 11,
   "metadata": {},
   "outputs": [
    {
     "data": {
      "text/html": [
       "<div>\n",
       "<style scoped>\n",
       "    .dataframe tbody tr th:only-of-type {\n",
       "        vertical-align: middle;\n",
       "    }\n",
       "\n",
       "    .dataframe tbody tr th {\n",
       "        vertical-align: top;\n",
       "    }\n",
       "\n",
       "    .dataframe thead th {\n",
       "        text-align: right;\n",
       "    }\n",
       "</style>\n",
       "<table border=\"1\" class=\"dataframe\">\n",
       "  <thead>\n",
       "    <tr style=\"text-align: right;\">\n",
       "      <th></th>\n",
       "      <th>year</th>\n",
       "      <th>geography</th>\n",
       "      <th>measure</th>\n",
       "      <th>adjustment</th>\n",
       "      <th>analysis</th>\n",
       "      <th>domain</th>\n",
       "      <th>condition</th>\n",
       "      <th>primary_sex</th>\n",
       "      <th>primary_age</th>\n",
       "      <th>primary_dual</th>\n",
       "      <th>fips</th>\n",
       "      <th>county</th>\n",
       "      <th>state</th>\n",
       "      <th>urban</th>\n",
       "      <th>primary_race</th>\n",
       "      <th>primary_denominator</th>\n",
       "      <th>analysis_value</th>\n",
       "    </tr>\n",
       "  </thead>\n",
       "  <tbody>\n",
       "    <tr>\n",
       "      <th>0</th>\n",
       "      <td>2017</td>\n",
       "      <td>County</td>\n",
       "      <td>Average total cost</td>\n",
       "      <td>Unsmoothed actual</td>\n",
       "      <td>Base measure</td>\n",
       "      <td>Primary chronic conditions</td>\n",
       "      <td>Cancer, Colorectal, Breast, Prostate, Lung</td>\n",
       "      <td>All</td>\n",
       "      <td>All</td>\n",
       "      <td>Dual &amp; non-dual</td>\n",
       "      <td>1001</td>\n",
       "      <td>Autauga County</td>\n",
       "      <td>ALABAMA</td>\n",
       "      <td>Urban</td>\n",
       "      <td>All</td>\n",
       "      <td>undefined</td>\n",
       "      <td>19293</td>\n",
       "    </tr>\n",
       "    <tr>\n",
       "      <th>1</th>\n",
       "      <td>2017</td>\n",
       "      <td>County</td>\n",
       "      <td>Average total cost</td>\n",
       "      <td>Unsmoothed actual</td>\n",
       "      <td>Base measure</td>\n",
       "      <td>Primary chronic conditions</td>\n",
       "      <td>Cancer, Colorectal, Breast, Prostate, Lung</td>\n",
       "      <td>All</td>\n",
       "      <td>All</td>\n",
       "      <td>Dual &amp; non-dual</td>\n",
       "      <td>1003</td>\n",
       "      <td>Baldwin County</td>\n",
       "      <td>ALABAMA</td>\n",
       "      <td>Rural</td>\n",
       "      <td>All</td>\n",
       "      <td>undefined</td>\n",
       "      <td>17151</td>\n",
       "    </tr>\n",
       "    <tr>\n",
       "      <th>2</th>\n",
       "      <td>2017</td>\n",
       "      <td>County</td>\n",
       "      <td>Average total cost</td>\n",
       "      <td>Unsmoothed actual</td>\n",
       "      <td>Base measure</td>\n",
       "      <td>Primary chronic conditions</td>\n",
       "      <td>Cancer, Colorectal, Breast, Prostate, Lung</td>\n",
       "      <td>All</td>\n",
       "      <td>All</td>\n",
       "      <td>Dual &amp; non-dual</td>\n",
       "      <td>1005</td>\n",
       "      <td>Barbour County</td>\n",
       "      <td>ALABAMA</td>\n",
       "      <td>Rural</td>\n",
       "      <td>All</td>\n",
       "      <td>undefined</td>\n",
       "      <td>19469</td>\n",
       "    </tr>\n",
       "    <tr>\n",
       "      <th>3</th>\n",
       "      <td>2017</td>\n",
       "      <td>County</td>\n",
       "      <td>Average total cost</td>\n",
       "      <td>Unsmoothed actual</td>\n",
       "      <td>Base measure</td>\n",
       "      <td>Primary chronic conditions</td>\n",
       "      <td>Cancer, Colorectal, Breast, Prostate, Lung</td>\n",
       "      <td>All</td>\n",
       "      <td>All</td>\n",
       "      <td>Dual &amp; non-dual</td>\n",
       "      <td>1007</td>\n",
       "      <td>Bibb County</td>\n",
       "      <td>ALABAMA</td>\n",
       "      <td>Urban</td>\n",
       "      <td>All</td>\n",
       "      <td>undefined</td>\n",
       "      <td>17234</td>\n",
       "    </tr>\n",
       "    <tr>\n",
       "      <th>4</th>\n",
       "      <td>2017</td>\n",
       "      <td>County</td>\n",
       "      <td>Average total cost</td>\n",
       "      <td>Unsmoothed actual</td>\n",
       "      <td>Base measure</td>\n",
       "      <td>Primary chronic conditions</td>\n",
       "      <td>Cancer, Colorectal, Breast, Prostate, Lung</td>\n",
       "      <td>All</td>\n",
       "      <td>All</td>\n",
       "      <td>Dual &amp; non-dual</td>\n",
       "      <td>1009</td>\n",
       "      <td>Blount County</td>\n",
       "      <td>ALABAMA</td>\n",
       "      <td>Urban</td>\n",
       "      <td>All</td>\n",
       "      <td>undefined</td>\n",
       "      <td>20317</td>\n",
       "    </tr>\n",
       "  </tbody>\n",
       "</table>\n",
       "</div>"
      ],
      "text/plain": [
       "   year geography             measure         adjustment      analysis  \\\n",
       "0  2017    County  Average total cost  Unsmoothed actual  Base measure   \n",
       "1  2017    County  Average total cost  Unsmoothed actual  Base measure   \n",
       "2  2017    County  Average total cost  Unsmoothed actual  Base measure   \n",
       "3  2017    County  Average total cost  Unsmoothed actual  Base measure   \n",
       "4  2017    County  Average total cost  Unsmoothed actual  Base measure   \n",
       "\n",
       "                       domain                                   condition  \\\n",
       "0  Primary chronic conditions  Cancer, Colorectal, Breast, Prostate, Lung   \n",
       "1  Primary chronic conditions  Cancer, Colorectal, Breast, Prostate, Lung   \n",
       "2  Primary chronic conditions  Cancer, Colorectal, Breast, Prostate, Lung   \n",
       "3  Primary chronic conditions  Cancer, Colorectal, Breast, Prostate, Lung   \n",
       "4  Primary chronic conditions  Cancer, Colorectal, Breast, Prostate, Lung   \n",
       "\n",
       "  primary_sex primary_age     primary_dual  fips          county    state  \\\n",
       "0         All         All  Dual & non-dual  1001  Autauga County  ALABAMA   \n",
       "1         All         All  Dual & non-dual  1003  Baldwin County  ALABAMA   \n",
       "2         All         All  Dual & non-dual  1005  Barbour County  ALABAMA   \n",
       "3         All         All  Dual & non-dual  1007     Bibb County  ALABAMA   \n",
       "4         All         All  Dual & non-dual  1009   Blount County  ALABAMA   \n",
       "\n",
       "   urban primary_race primary_denominator  analysis_value  \n",
       "0  Urban          All           undefined           19293  \n",
       "1  Rural          All           undefined           17151  \n",
       "2  Rural          All           undefined           19469  \n",
       "3  Urban          All           undefined           17234  \n",
       "4  Urban          All           undefined           20317  "
      ]
     },
     "execution_count": 11,
     "metadata": {},
     "output_type": "execute_result"
    }
   ],
   "source": [
    "cancer_costs_df.head()"
   ]
  },
  {
   "cell_type": "code",
   "execution_count": 12,
   "metadata": {},
   "outputs": [
    {
     "data": {
      "text/html": [
       "<div>\n",
       "<style scoped>\n",
       "    .dataframe tbody tr th:only-of-type {\n",
       "        vertical-align: middle;\n",
       "    }\n",
       "\n",
       "    .dataframe tbody tr th {\n",
       "        vertical-align: top;\n",
       "    }\n",
       "\n",
       "    .dataframe thead th {\n",
       "        text-align: right;\n",
       "    }\n",
       "</style>\n",
       "<table border=\"1\" class=\"dataframe\">\n",
       "  <thead>\n",
       "    <tr style=\"text-align: right;\">\n",
       "      <th></th>\n",
       "      <th>year</th>\n",
       "      <th>geography</th>\n",
       "      <th>measure</th>\n",
       "      <th>adjustment</th>\n",
       "      <th>analysis</th>\n",
       "      <th>domain</th>\n",
       "      <th>condition</th>\n",
       "      <th>primary_sex</th>\n",
       "      <th>primary_age</th>\n",
       "      <th>primary_dual</th>\n",
       "      <th>fips</th>\n",
       "      <th>county</th>\n",
       "      <th>state</th>\n",
       "      <th>urban</th>\n",
       "      <th>primary_race</th>\n",
       "      <th>primary_denominator</th>\n",
       "      <th>analysis_value</th>\n",
       "    </tr>\n",
       "  </thead>\n",
       "  <tbody>\n",
       "    <tr>\n",
       "      <th>3160</th>\n",
       "      <td>2017</td>\n",
       "      <td>County</td>\n",
       "      <td>Average total cost</td>\n",
       "      <td>Unsmoothed actual</td>\n",
       "      <td>Base measure</td>\n",
       "      <td>Primary chronic conditions</td>\n",
       "      <td>Cancer, Colorectal, Breast, Prostate, Lung</td>\n",
       "      <td>All</td>\n",
       "      <td>All</td>\n",
       "      <td>Dual &amp; non-dual</td>\n",
       "      <td>72145</td>\n",
       "      <td>Vega Baja Municipio</td>\n",
       "      <td>PUERTO RICO</td>\n",
       "      <td>Urban</td>\n",
       "      <td>All</td>\n",
       "      <td>undefined</td>\n",
       "      <td>7364</td>\n",
       "    </tr>\n",
       "    <tr>\n",
       "      <th>3161</th>\n",
       "      <td>2017</td>\n",
       "      <td>County</td>\n",
       "      <td>Average total cost</td>\n",
       "      <td>Unsmoothed actual</td>\n",
       "      <td>Base measure</td>\n",
       "      <td>Primary chronic conditions</td>\n",
       "      <td>Cancer, Colorectal, Breast, Prostate, Lung</td>\n",
       "      <td>All</td>\n",
       "      <td>All</td>\n",
       "      <td>Dual &amp; non-dual</td>\n",
       "      <td>72147</td>\n",
       "      <td>Vieques Municipio</td>\n",
       "      <td>PUERTO RICO</td>\n",
       "      <td>Rural</td>\n",
       "      <td>All</td>\n",
       "      <td>undefined</td>\n",
       "      <td>9987</td>\n",
       "    </tr>\n",
       "    <tr>\n",
       "      <th>3162</th>\n",
       "      <td>2017</td>\n",
       "      <td>County</td>\n",
       "      <td>Average total cost</td>\n",
       "      <td>Unsmoothed actual</td>\n",
       "      <td>Base measure</td>\n",
       "      <td>Primary chronic conditions</td>\n",
       "      <td>Cancer, Colorectal, Breast, Prostate, Lung</td>\n",
       "      <td>All</td>\n",
       "      <td>All</td>\n",
       "      <td>Dual &amp; non-dual</td>\n",
       "      <td>72149</td>\n",
       "      <td>Villalba Municipio</td>\n",
       "      <td>PUERTO RICO</td>\n",
       "      <td>Urban</td>\n",
       "      <td>All</td>\n",
       "      <td>undefined</td>\n",
       "      <td>24127</td>\n",
       "    </tr>\n",
       "    <tr>\n",
       "      <th>3163</th>\n",
       "      <td>2017</td>\n",
       "      <td>County</td>\n",
       "      <td>Average total cost</td>\n",
       "      <td>Unsmoothed actual</td>\n",
       "      <td>Base measure</td>\n",
       "      <td>Primary chronic conditions</td>\n",
       "      <td>Cancer, Colorectal, Breast, Prostate, Lung</td>\n",
       "      <td>All</td>\n",
       "      <td>All</td>\n",
       "      <td>Dual &amp; non-dual</td>\n",
       "      <td>72151</td>\n",
       "      <td>Yabucoa Municipio</td>\n",
       "      <td>PUERTO RICO</td>\n",
       "      <td>Urban</td>\n",
       "      <td>All</td>\n",
       "      <td>undefined</td>\n",
       "      <td>8008</td>\n",
       "    </tr>\n",
       "    <tr>\n",
       "      <th>3164</th>\n",
       "      <td>2017</td>\n",
       "      <td>County</td>\n",
       "      <td>Average total cost</td>\n",
       "      <td>Unsmoothed actual</td>\n",
       "      <td>Base measure</td>\n",
       "      <td>Primary chronic conditions</td>\n",
       "      <td>Cancer, Colorectal, Breast, Prostate, Lung</td>\n",
       "      <td>All</td>\n",
       "      <td>All</td>\n",
       "      <td>Dual &amp; non-dual</td>\n",
       "      <td>72153</td>\n",
       "      <td>Yauco Municipio</td>\n",
       "      <td>PUERTO RICO</td>\n",
       "      <td>Urban</td>\n",
       "      <td>All</td>\n",
       "      <td>undefined</td>\n",
       "      <td>11171</td>\n",
       "    </tr>\n",
       "  </tbody>\n",
       "</table>\n",
       "</div>"
      ],
      "text/plain": [
       "      year geography             measure         adjustment      analysis  \\\n",
       "3160  2017    County  Average total cost  Unsmoothed actual  Base measure   \n",
       "3161  2017    County  Average total cost  Unsmoothed actual  Base measure   \n",
       "3162  2017    County  Average total cost  Unsmoothed actual  Base measure   \n",
       "3163  2017    County  Average total cost  Unsmoothed actual  Base measure   \n",
       "3164  2017    County  Average total cost  Unsmoothed actual  Base measure   \n",
       "\n",
       "                          domain                                   condition  \\\n",
       "3160  Primary chronic conditions  Cancer, Colorectal, Breast, Prostate, Lung   \n",
       "3161  Primary chronic conditions  Cancer, Colorectal, Breast, Prostate, Lung   \n",
       "3162  Primary chronic conditions  Cancer, Colorectal, Breast, Prostate, Lung   \n",
       "3163  Primary chronic conditions  Cancer, Colorectal, Breast, Prostate, Lung   \n",
       "3164  Primary chronic conditions  Cancer, Colorectal, Breast, Prostate, Lung   \n",
       "\n",
       "     primary_sex primary_age     primary_dual   fips               county  \\\n",
       "3160         All         All  Dual & non-dual  72145  Vega Baja Municipio   \n",
       "3161         All         All  Dual & non-dual  72147    Vieques Municipio   \n",
       "3162         All         All  Dual & non-dual  72149   Villalba Municipio   \n",
       "3163         All         All  Dual & non-dual  72151    Yabucoa Municipio   \n",
       "3164         All         All  Dual & non-dual  72153      Yauco Municipio   \n",
       "\n",
       "            state  urban primary_race primary_denominator  analysis_value  \n",
       "3160  PUERTO RICO  Urban          All           undefined            7364  \n",
       "3161  PUERTO RICO  Rural          All           undefined            9987  \n",
       "3162  PUERTO RICO  Urban          All           undefined           24127  \n",
       "3163  PUERTO RICO  Urban          All           undefined            8008  \n",
       "3164  PUERTO RICO  Urban          All           undefined           11171  "
      ]
     },
     "execution_count": 12,
     "metadata": {},
     "output_type": "execute_result"
    }
   ],
   "source": [
    "cancer_costs_df.tail()"
   ]
  },
  {
   "cell_type": "code",
   "execution_count": 13,
   "metadata": {},
   "outputs": [],
   "source": [
    "# keep only rows where state = TENNESSEE\n",
    "cancer_costs_tn = cancer_costs_df.loc[cancer_costs_df['state'] == 'TENNESSEE']"
   ]
  },
  {
   "cell_type": "code",
   "execution_count": 14,
   "metadata": {},
   "outputs": [
    {
     "name": "stdout",
     "output_type": "stream",
     "text": [
      "(95, 17)\n"
     ]
    }
   ],
   "source": [
    "print(cancer_costs_tn.shape) #prints (rows,columns)"
   ]
  },
  {
   "cell_type": "code",
   "execution_count": 15,
   "metadata": {},
   "outputs": [
    {
     "data": {
      "text/plain": [
       "95"
      ]
     },
     "execution_count": 15,
     "metadata": {},
     "output_type": "execute_result"
    }
   ],
   "source": [
    "cancer_costs_tn['county'].nunique() # 95 counties represented"
   ]
  },
  {
   "cell_type": "markdown",
   "metadata": {},
   "source": [
    "###  Bonus: identify which counties are missing from ha_costs_tn"
   ]
  },
  {
   "cell_type": "code",
   "execution_count": 16,
   "metadata": {},
   "outputs": [
    {
     "data": {
      "text/plain": [
       "2429      Hancock County\n",
       "2459        Moore County\n",
       "2464      Pickett County\n",
       "2483    Van Buren County\n",
       "Name: county, dtype: object"
      ]
     },
     "execution_count": 16,
     "metadata": {},
     "output_type": "execute_result"
    }
   ],
   "source": [
    "cancer_costs_tn.loc[~cancer_costs_tn[\"county\"].isin(ha_costs_tn['county'])]['county']"
   ]
  },
  {
   "cell_type": "markdown",
   "metadata": {},
   "source": [
    "### Create a DataFrame, income_df, from the irs_county_2016.csv file.\n",
    "\n",
    "* Keep only the data that pertains to Tennessee.\n",
    "* Look at the head and the tail.\n",
    "* Print the shape.\n",
    "* Keep only the following columns: ['STATE', 'COUNTYNAME', 'agi_stub', 'N1', 'mars1', 'MARS2', 'MARS4', 'N2', 'NUMDEP', 'ELDERLY', 'A00100', 'N02650', 'A02650', 'N02300', 'A02300']\n",
    "* rename those columns: ['state', 'county', 'income_bucket', 'return_count', 'single_returns', 'joint_returns', 'head_of_house_returns', 'exemptions', 'dependents', 'elderly', 'agi', 'returns_with_total_inc','total_inc_amt', 'returns_with_unemployment', 'unemployment_comp']"
   ]
  },
  {
   "cell_type": "code",
   "execution_count": 17,
   "metadata": {},
   "outputs": [],
   "source": [
    "income_df = pd.read_csv('../data/irs_county_2016.csv')"
   ]
  },
  {
   "cell_type": "code",
   "execution_count": 18,
   "metadata": {},
   "outputs": [],
   "source": [
    "income_tn = income_df.loc[income_df['STATE'] == 'TN'] # keep data only in TN"
   ]
  },
  {
   "cell_type": "code",
   "execution_count": 19,
   "metadata": {},
   "outputs": [
    {
     "data": {
      "text/html": [
       "<div>\n",
       "<style scoped>\n",
       "    .dataframe tbody tr th:only-of-type {\n",
       "        vertical-align: middle;\n",
       "    }\n",
       "\n",
       "    .dataframe tbody tr th {\n",
       "        vertical-align: top;\n",
       "    }\n",
       "\n",
       "    .dataframe thead th {\n",
       "        text-align: right;\n",
       "    }\n",
       "</style>\n",
       "<table border=\"1\" class=\"dataframe\">\n",
       "  <thead>\n",
       "    <tr style=\"text-align: right;\">\n",
       "      <th></th>\n",
       "      <th>STATEFIPS</th>\n",
       "      <th>STATE</th>\n",
       "      <th>COUNTYFIPS</th>\n",
       "      <th>COUNTYNAME</th>\n",
       "      <th>agi_stub</th>\n",
       "      <th>N1</th>\n",
       "      <th>mars1</th>\n",
       "      <th>MARS2</th>\n",
       "      <th>MARS4</th>\n",
       "      <th>PREP</th>\n",
       "      <th>...</th>\n",
       "      <th>N10300</th>\n",
       "      <th>A10300</th>\n",
       "      <th>N85530</th>\n",
       "      <th>A85530</th>\n",
       "      <th>N85300</th>\n",
       "      <th>A85300</th>\n",
       "      <th>N11901</th>\n",
       "      <th>A11901</th>\n",
       "      <th>N11902</th>\n",
       "      <th>A11902</th>\n",
       "    </tr>\n",
       "  </thead>\n",
       "  <tbody>\n",
       "    <tr>\n",
       "      <th>19752</th>\n",
       "      <td>47</td>\n",
       "      <td>TN</td>\n",
       "      <td>0</td>\n",
       "      <td>Tennessee</td>\n",
       "      <td>1</td>\n",
       "      <td>39580</td>\n",
       "      <td>22400</td>\n",
       "      <td>14440</td>\n",
       "      <td>980</td>\n",
       "      <td>25390</td>\n",
       "      <td>...</td>\n",
       "      <td>6760</td>\n",
       "      <td>17669</td>\n",
       "      <td>200</td>\n",
       "      <td>287</td>\n",
       "      <td>0</td>\n",
       "      <td>0</td>\n",
       "      <td>3970</td>\n",
       "      <td>7167</td>\n",
       "      <td>16170</td>\n",
       "      <td>59567</td>\n",
       "    </tr>\n",
       "    <tr>\n",
       "      <th>19753</th>\n",
       "      <td>47</td>\n",
       "      <td>TN</td>\n",
       "      <td>0</td>\n",
       "      <td>Tennessee</td>\n",
       "      <td>2</td>\n",
       "      <td>439770</td>\n",
       "      <td>345410</td>\n",
       "      <td>39920</td>\n",
       "      <td>49300</td>\n",
       "      <td>188490</td>\n",
       "      <td>...</td>\n",
       "      <td>109250</td>\n",
       "      <td>62045</td>\n",
       "      <td>0</td>\n",
       "      <td>0</td>\n",
       "      <td>0</td>\n",
       "      <td>0</td>\n",
       "      <td>37380</td>\n",
       "      <td>18477</td>\n",
       "      <td>366150</td>\n",
       "      <td>366510</td>\n",
       "    </tr>\n",
       "  </tbody>\n",
       "</table>\n",
       "<p>2 rows × 148 columns</p>\n",
       "</div>"
      ],
      "text/plain": [
       "       STATEFIPS STATE  COUNTYFIPS COUNTYNAME  agi_stub      N1   mars1  \\\n",
       "19752         47    TN           0  Tennessee         1   39580   22400   \n",
       "19753         47    TN           0  Tennessee         2  439770  345410   \n",
       "\n",
       "       MARS2  MARS4    PREP  ...  N10300  A10300  N85530  A85530  N85300  \\\n",
       "19752  14440    980   25390  ...    6760   17669     200     287       0   \n",
       "19753  39920  49300  188490  ...  109250   62045       0       0       0   \n",
       "\n",
       "       A85300  N11901  A11901  N11902  A11902  \n",
       "19752       0    3970    7167   16170   59567  \n",
       "19753       0   37380   18477  366150  366510  \n",
       "\n",
       "[2 rows x 148 columns]"
      ]
     },
     "execution_count": 19,
     "metadata": {},
     "output_type": "execute_result"
    }
   ],
   "source": [
    "income_tn.head(2)"
   ]
  },
  {
   "cell_type": "code",
   "execution_count": 20,
   "metadata": {},
   "outputs": [
    {
     "data": {
      "text/html": [
       "<div>\n",
       "<style scoped>\n",
       "    .dataframe tbody tr th:only-of-type {\n",
       "        vertical-align: middle;\n",
       "    }\n",
       "\n",
       "    .dataframe tbody tr th {\n",
       "        vertical-align: top;\n",
       "    }\n",
       "\n",
       "    .dataframe thead th {\n",
       "        text-align: right;\n",
       "    }\n",
       "</style>\n",
       "<table border=\"1\" class=\"dataframe\">\n",
       "  <thead>\n",
       "    <tr style=\"text-align: right;\">\n",
       "      <th></th>\n",
       "      <th>STATEFIPS</th>\n",
       "      <th>STATE</th>\n",
       "      <th>COUNTYFIPS</th>\n",
       "      <th>COUNTYNAME</th>\n",
       "      <th>agi_stub</th>\n",
       "      <th>N1</th>\n",
       "      <th>mars1</th>\n",
       "      <th>MARS2</th>\n",
       "      <th>MARS4</th>\n",
       "      <th>PREP</th>\n",
       "      <th>...</th>\n",
       "      <th>N10300</th>\n",
       "      <th>A10300</th>\n",
       "      <th>N85530</th>\n",
       "      <th>A85530</th>\n",
       "      <th>N85300</th>\n",
       "      <th>A85300</th>\n",
       "      <th>N11901</th>\n",
       "      <th>A11901</th>\n",
       "      <th>N11902</th>\n",
       "      <th>A11902</th>\n",
       "    </tr>\n",
       "  </thead>\n",
       "  <tbody>\n",
       "    <tr>\n",
       "      <th>20518</th>\n",
       "      <td>47</td>\n",
       "      <td>TN</td>\n",
       "      <td>189</td>\n",
       "      <td>Wilson County</td>\n",
       "      <td>7</td>\n",
       "      <td>10350</td>\n",
       "      <td>780</td>\n",
       "      <td>9260</td>\n",
       "      <td>240</td>\n",
       "      <td>5330</td>\n",
       "      <td>...</td>\n",
       "      <td>10330</td>\n",
       "      <td>190229</td>\n",
       "      <td>60</td>\n",
       "      <td>13</td>\n",
       "      <td>0</td>\n",
       "      <td>0</td>\n",
       "      <td>3810</td>\n",
       "      <td>19921</td>\n",
       "      <td>6270</td>\n",
       "      <td>24591</td>\n",
       "    </tr>\n",
       "    <tr>\n",
       "      <th>20519</th>\n",
       "      <td>47</td>\n",
       "      <td>TN</td>\n",
       "      <td>189</td>\n",
       "      <td>Wilson County</td>\n",
       "      <td>8</td>\n",
       "      <td>2370</td>\n",
       "      <td>180</td>\n",
       "      <td>2130</td>\n",
       "      <td>50</td>\n",
       "      <td>1700</td>\n",
       "      <td>...</td>\n",
       "      <td>2370</td>\n",
       "      <td>230759</td>\n",
       "      <td>1160</td>\n",
       "      <td>1817</td>\n",
       "      <td>1080</td>\n",
       "      <td>3775</td>\n",
       "      <td>1260</td>\n",
       "      <td>39698</td>\n",
       "      <td>880</td>\n",
       "      <td>9411</td>\n",
       "    </tr>\n",
       "  </tbody>\n",
       "</table>\n",
       "<p>2 rows × 148 columns</p>\n",
       "</div>"
      ],
      "text/plain": [
       "       STATEFIPS STATE  COUNTYFIPS     COUNTYNAME  agi_stub     N1  mars1  \\\n",
       "20518         47    TN         189  Wilson County         7  10350    780   \n",
       "20519         47    TN         189  Wilson County         8   2370    180   \n",
       "\n",
       "       MARS2  MARS4  PREP  ...  N10300  A10300  N85530  A85530  N85300  \\\n",
       "20518   9260    240  5330  ...   10330  190229      60      13       0   \n",
       "20519   2130     50  1700  ...    2370  230759    1160    1817    1080   \n",
       "\n",
       "       A85300  N11901  A11901  N11902  A11902  \n",
       "20518       0    3810   19921    6270   24591  \n",
       "20519    3775    1260   39698     880    9411  \n",
       "\n",
       "[2 rows x 148 columns]"
      ]
     },
     "execution_count": 20,
     "metadata": {},
     "output_type": "execute_result"
    }
   ],
   "source": [
    "income_tn.tail(2)"
   ]
  },
  {
   "cell_type": "code",
   "execution_count": 21,
   "metadata": {},
   "outputs": [
    {
     "name": "stdout",
     "output_type": "stream",
     "text": [
      "(768, 148)\n"
     ]
    }
   ],
   "source": [
    "print(income_tn.shape)"
   ]
  },
  {
   "cell_type": "code",
   "execution_count": 22,
   "metadata": {},
   "outputs": [],
   "source": [
    "income_tn = income_tn[['STATE', 'COUNTYNAME', 'agi_stub', 'N1', 'mars1',\n",
    "                       'MARS2', 'MARS4', 'N2', 'NUMDEP', 'ELDERLY', 'A00100', 'N02650', \n",
    "                       'A02650', 'N02300', 'A02300']]"
   ]
  },
  {
   "cell_type": "code",
   "execution_count": 23,
   "metadata": {},
   "outputs": [
    {
     "data": {
      "text/html": [
       "<div>\n",
       "<style scoped>\n",
       "    .dataframe tbody tr th:only-of-type {\n",
       "        vertical-align: middle;\n",
       "    }\n",
       "\n",
       "    .dataframe tbody tr th {\n",
       "        vertical-align: top;\n",
       "    }\n",
       "\n",
       "    .dataframe thead th {\n",
       "        text-align: right;\n",
       "    }\n",
       "</style>\n",
       "<table border=\"1\" class=\"dataframe\">\n",
       "  <thead>\n",
       "    <tr style=\"text-align: right;\">\n",
       "      <th></th>\n",
       "      <th>STATE</th>\n",
       "      <th>COUNTYNAME</th>\n",
       "      <th>agi_stub</th>\n",
       "      <th>N1</th>\n",
       "      <th>mars1</th>\n",
       "      <th>MARS2</th>\n",
       "      <th>MARS4</th>\n",
       "      <th>N2</th>\n",
       "      <th>NUMDEP</th>\n",
       "      <th>ELDERLY</th>\n",
       "      <th>A00100</th>\n",
       "      <th>N02650</th>\n",
       "      <th>A02650</th>\n",
       "      <th>N02300</th>\n",
       "      <th>A02300</th>\n",
       "    </tr>\n",
       "  </thead>\n",
       "  <tbody>\n",
       "    <tr>\n",
       "      <th>19752</th>\n",
       "      <td>TN</td>\n",
       "      <td>Tennessee</td>\n",
       "      <td>1</td>\n",
       "      <td>39580</td>\n",
       "      <td>22400</td>\n",
       "      <td>14440</td>\n",
       "      <td>980</td>\n",
       "      <td>60360</td>\n",
       "      <td>8230</td>\n",
       "      <td>19090</td>\n",
       "      <td>-2747555</td>\n",
       "      <td>29090</td>\n",
       "      <td>-2710342</td>\n",
       "      <td>90</td>\n",
       "      <td>348</td>\n",
       "    </tr>\n",
       "    <tr>\n",
       "      <th>19753</th>\n",
       "      <td>TN</td>\n",
       "      <td>Tennessee</td>\n",
       "      <td>2</td>\n",
       "      <td>439770</td>\n",
       "      <td>345410</td>\n",
       "      <td>39920</td>\n",
       "      <td>49300</td>\n",
       "      <td>443540</td>\n",
       "      <td>108380</td>\n",
       "      <td>74190</td>\n",
       "      <td>2366417</td>\n",
       "      <td>439780</td>\n",
       "      <td>2441687</td>\n",
       "      <td>4830</td>\n",
       "      <td>12132</td>\n",
       "    </tr>\n",
       "  </tbody>\n",
       "</table>\n",
       "</div>"
      ],
      "text/plain": [
       "      STATE COUNTYNAME  agi_stub      N1   mars1  MARS2  MARS4      N2  \\\n",
       "19752    TN  Tennessee         1   39580   22400  14440    980   60360   \n",
       "19753    TN  Tennessee         2  439770  345410  39920  49300  443540   \n",
       "\n",
       "       NUMDEP  ELDERLY   A00100  N02650   A02650  N02300  A02300  \n",
       "19752    8230    19090 -2747555   29090 -2710342      90     348  \n",
       "19753  108380    74190  2366417  439780  2441687    4830   12132  "
      ]
     },
     "execution_count": 23,
     "metadata": {},
     "output_type": "execute_result"
    }
   ],
   "source": [
    "income_tn.head(2)"
   ]
  },
  {
   "cell_type": "code",
   "execution_count": 24,
   "metadata": {},
   "outputs": [],
   "source": [
    "# rename columns\n",
    "income_tn.columns = ['state', 'county', 'income_bucket', 'return_count', 'single_returns', 'joint_returns', 'head_of_house_returns', 'exemptions', 'dependents', 'elderly', 'agi', 'returns_with_total_inc','total_inc_amt', 'returns_with_unemployment', 'unemployment_comp']"
   ]
  },
  {
   "cell_type": "markdown",
   "metadata": {},
   "source": [
    "# Week 2\n",
    "\n",
    "### Look at the distribution of analysis values within the state of Tennessee for both ha_costs_df and cancer_costs_df. Does there appear to be a difference in these distributions for urban counties compared to rural counties?"
   ]
  },
  {
   "cell_type": "code",
   "execution_count": 25,
   "metadata": {},
   "outputs": [],
   "source": [
    "ha_costs_tn_urban = ha_costs_tn.loc[ha_costs_tn['urban'] == 'Urban']\n",
    "# You can slice a DataFrame using `.loc` and passing in a conditional expression."
   ]
  },
  {
   "cell_type": "code",
   "execution_count": 26,
   "metadata": {},
   "outputs": [
    {
     "data": {
      "text/plain": [
       "count       38.000000\n",
       "mean     45748.921053\n",
       "std       7109.788921\n",
       "min      32279.000000\n",
       "25%      40452.750000\n",
       "50%      45496.500000\n",
       "75%      50734.500000\n",
       "max      61541.000000\n",
       "Name: analysis_value, dtype: float64"
      ]
     },
     "execution_count": 26,
     "metadata": {},
     "output_type": "execute_result"
    }
   ],
   "source": [
    "ha_costs_tn_urban.analysis_value.describe()"
   ]
  },
  {
   "cell_type": "code",
   "execution_count": 27,
   "metadata": {},
   "outputs": [],
   "source": [
    "ha_costs_tn_rural = ha_costs_tn.loc[ha_costs_tn['urban'] == 'Rural']"
   ]
  },
  {
   "cell_type": "code",
   "execution_count": 28,
   "metadata": {},
   "outputs": [
    {
     "data": {
      "text/plain": [
       "count       53.000000\n",
       "mean     45773.075472\n",
       "std       6232.724885\n",
       "min      30831.000000\n",
       "25%      41240.000000\n",
       "50%      45384.000000\n",
       "75%      48998.000000\n",
       "max      62641.000000\n",
       "Name: analysis_value, dtype: float64"
      ]
     },
     "execution_count": 28,
     "metadata": {},
     "output_type": "execute_result"
    }
   ],
   "source": [
    "ha_costs_tn_rural.analysis_value.describe()"
   ]
  },
  {
   "cell_type": "code",
   "execution_count": 29,
   "metadata": {},
   "outputs": [
    {
     "data": {
      "text/plain": [
       "<matplotlib.legend.Legend at 0x1a1b061550>"
      ]
     },
     "execution_count": 29,
     "metadata": {},
     "output_type": "execute_result"
    },
    {
     "data": {
      "image/png": "[encoded data removed]",
      "text/plain": [
       "<Figure size 432x288 with 1 Axes>"
      ]
     },
     "metadata": {
      "needs_background": "light"
     },
     "output_type": "display_data"
    }
   ],
   "source": [
    "# you can also make a histogram to look at distribution of analysis_value\n",
    "# uses matplotlib\n",
    "h = ha_costs_tn.analysis_value[ha_costs_tn.urban == 'Urban'].hist(alpha=0.5,bins=25,label='Ha Costs - Urban')\n",
    "ha_costs_tn.analysis_value[ha_costs_tn.urban == 'Rural'].hist(alpha=0.5,bins=25,label='Ha Costs - Rural')\n",
    "h.legend()"
   ]
  },
  {
   "cell_type": "code",
   "execution_count": 30,
   "metadata": {},
   "outputs": [],
   "source": [
    "cancer_costs_tn_urban = cancer_costs_tn.loc[cancer_costs_tn['urban'] == 'Urban']"
   ]
  },
  {
   "cell_type": "code",
   "execution_count": 31,
   "metadata": {},
   "outputs": [
    {
     "data": {
      "text/plain": [
       "count       38.000000\n",
       "mean     19638.605263\n",
       "std       2712.218435\n",
       "min      15454.000000\n",
       "25%      17674.750000\n",
       "50%      19203.500000\n",
       "75%      20556.750000\n",
       "max      27740.000000\n",
       "Name: analysis_value, dtype: float64"
      ]
     },
     "execution_count": 31,
     "metadata": {},
     "output_type": "execute_result"
    }
   ],
   "source": [
    "cancer_costs_tn_urban.analysis_value.describe()"
   ]
  },
  {
   "cell_type": "code",
   "execution_count": 32,
   "metadata": {},
   "outputs": [],
   "source": [
    "cancer_costs_tn_rural = cancer_costs_tn.loc[cancer_costs_df['urban'] == 'Rural']"
   ]
  },
  {
   "cell_type": "code",
   "execution_count": 33,
   "metadata": {},
   "outputs": [
    {
     "data": {
      "text/plain": [
       "count       57.000000\n",
       "mean     19837.421053\n",
       "std       2255.416100\n",
       "min      15531.000000\n",
       "25%      18328.000000\n",
       "50%      19633.000000\n",
       "75%      21315.000000\n",
       "max      25909.000000\n",
       "Name: analysis_value, dtype: float64"
      ]
     },
     "execution_count": 33,
     "metadata": {},
     "output_type": "execute_result"
    }
   ],
   "source": [
    "cancer_costs_tn_rural.analysis_value.describe()"
   ]
  },
  {
   "cell_type": "code",
   "execution_count": 34,
   "metadata": {},
   "outputs": [
    {
     "data": {
      "text/plain": [
       "<matplotlib.legend.Legend at 0x1a1b223e90>"
      ]
     },
     "execution_count": 34,
     "metadata": {},
     "output_type": "execute_result"
    },
    {
     "data": {
      "image/png": "[encoded data removed]",
      "text/plain": [
       "<Figure size 432x288 with 1 Axes>"
      ]
     },
     "metadata": {
      "needs_background": "light"
     },
     "output_type": "display_data"
    }
   ],
   "source": [
    "# make a histogram\n",
    "h = cancer_costs_tn.analysis_value[cancer_costs_tn.urban == 'Urban'].hist(alpha=0.5,bins=25,label='Cancer Costs - Urban')\n",
    "cancer_costs_tn.analysis_value[cancer_costs_tn.urban == 'Rural'].hist(alpha=0.5,bins=25,label='Cancer Costs - Rural')\n",
    "h.legend()"
   ]
  },
  {
   "cell_type": "markdown",
   "metadata": {},
   "source": [
    "### Create income_dict, a dictionary that uses the numerical codes in the income bucket column as keys and the matching descriptions as values\n",
    "* `('Total', 'Under $1', 'Between 1 and $10,000', 'Between 10,000 and $25,000','Between 25,000 and $50,000', 'Between 50,000 and $75,000', 'Between 75,000 and $100,000', 'Between 100,000 and $200,000', '$200,000 or more')`"
   ]
  },
  {
   "cell_type": "code",
   "execution_count": 35,
   "metadata": {},
   "outputs": [],
   "source": [
    "income_dict = {0:'Total', 1: 'Under $1', 2: 'Between 1 and $10,000', \n",
    "              3: 'Between 10,000 and $25,000',4:'Between 25,000 and $50,000', \n",
    "               5:'Between 50,000 and $75,000', 6:'Between 75,000 and $100,000', \n",
    "               7:'Between 100,000 and $200,000', 8:'$200,000 or more'}"
   ]
  },
  {
   "cell_type": "markdown",
   "metadata": {},
   "source": [
    "### Pass the dictionary as an argument to the pandas .replace() method to change the income_bucket column so that it uses descriptive text instead of the numeric code."
   ]
  },
  {
   "cell_type": "code",
   "execution_count": 36,
   "metadata": {},
   "outputs": [],
   "source": [
    "income_tn.income_bucket = income_tn.income_bucket.replace(income_dict)"
   ]
  },
  {
   "cell_type": "markdown",
   "metadata": {},
   "source": [
    "### Create a new dataframe income_county_agg to show totals for each county. \n",
    "* Use the pandas groupby() method to group the data by county and get the sum() of all numeric columns for that county.\n",
    "* Be sure to also reset_index() so that our aggregated data is re-indexed to begin at 0.\n",
    "* Which county has the greatest number of returns? Does it also have the greatest total income?"
   ]
  },
  {
   "cell_type": "code",
   "execution_count": 37,
   "metadata": {},
   "outputs": [],
   "source": [
    "income_county_agg = income_tn.groupby('county').sum()"
   ]
  },
  {
   "cell_type": "code",
   "execution_count": 38,
   "metadata": {},
   "outputs": [],
   "source": [
    "income_county_agg = income_county_agg.reset_index()"
   ]
  },
  {
   "cell_type": "code",
   "execution_count": 39,
   "metadata": {},
   "outputs": [
    {
     "data": {
      "text/plain": [
       "county                       Shelby County\n",
       "return_count                        431650\n",
       "single_returns                      205500\n",
       "joint_returns                       104290\n",
       "head_of_house_returns               112920\n",
       "exemptions                          836590\n",
       "dependents                          325450\n",
       "elderly                              86860\n",
       "agi                               25467506\n",
       "returns_with_total_inc              430150\n",
       "total_inc_amt                     25843890\n",
       "returns_with_unemployment             8020\n",
       "unemployment_comp                    26306\n",
       "Name: 78, dtype: object"
      ]
     },
     "execution_count": 39,
     "metadata": {},
     "output_type": "execute_result"
    }
   ],
   "source": [
    "# which county has the greatest number of returns?\n",
    "income_county_agg = income_county_agg.loc[income_county_agg['county'] != 'Tennessee']\n",
    "income_county_agg.loc[income_county_agg.return_count.idxmax()]"
   ]
  },
  {
   "cell_type": "code",
   "execution_count": 40,
   "metadata": {},
   "outputs": [
    {
     "data": {
      "text/plain": [
       "county                       Shelby County\n",
       "return_count                        431650\n",
       "single_returns                      205500\n",
       "joint_returns                       104290\n",
       "head_of_house_returns               112920\n",
       "exemptions                          836590\n",
       "dependents                          325450\n",
       "elderly                              86860\n",
       "agi                               25467506\n",
       "returns_with_total_inc              430150\n",
       "total_inc_amt                     25843890\n",
       "returns_with_unemployment             8020\n",
       "unemployment_comp                    26306\n",
       "Name: 78, dtype: object"
      ]
     },
     "execution_count": 40,
     "metadata": {},
     "output_type": "execute_result"
    }
   ],
   "source": [
    "income_county_agg.loc[income_county_agg.agi.idxmax()]"
   ]
  },
  {
   "cell_type": "markdown",
   "metadata": {},
   "source": [
    "# Week 3"
   ]
  },
  {
   "cell_type": "markdown",
   "metadata": {},
   "source": [
    "### 1. Using the tn_income DataFrame, create a bar plot showing the total number of returns per income bucket for the state of Tennessee. You can get the total numbers for the state by filtering to rows where the county variable is \"Tennessee\"."
   ]
  },
  {
   "cell_type": "code",
   "execution_count": 41,
   "metadata": {},
   "outputs": [],
   "source": [
    "income_tn_state = income_tn.loc[income_tn['county'] == 'Tennessee']"
   ]
  },
  {
   "cell_type": "code",
   "execution_count": 42,
   "metadata": {},
   "outputs": [
    {
     "data": {
      "image/png": "[encoded data removed]",
      "text/plain": [
       "<Figure size 576x432 with 1 Axes>"
      ]
     },
     "metadata": {
      "needs_background": "light"
     },
     "output_type": "display_data"
    }
   ],
   "source": [
    "plt.figure(figsize = (8, 6)) # width, height # from matlab\n",
    "sns.set(style=\"whitegrid\")\n",
    "sns.barplot('return_count', 'income_bucket', data = income_tn_state, palette = \"Spectral\") # 'x', 'y', data, palette\n",
    "plt.xlabel('Total Returns', fontsize=15)\n",
    "plt.ylabel('')\n",
    "plt.title('Total Returns per income bucket in Tennessee', fontsize=15);"
   ]
  },
  {
   "cell_type": "markdown",
   "metadata": {},
   "source": [
    "### 2. Create a calculated column in the income_county_agg DataFrame which gives the approximate average household income for each county. Calculate this as 1000*total_inc_amt / return_count."
   ]
  },
  {
   "cell_type": "code",
   "execution_count": 43,
   "metadata": {},
   "outputs": [],
   "source": [
    "income_county_agg['approx_avg_income'] = 1000 * income_county_agg['total_inc_amt']/income_county_agg['return_count']"
   ]
  },
  {
   "cell_type": "markdown",
   "metadata": {},
   "source": [
    "### 3.  Create a histogram showing the distribution of average incomes across all counties in Tennessee. Be sure to remove the Tennessee row prior to creating this histogram"
   ]
  },
  {
   "cell_type": "code",
   "execution_count": 44,
   "metadata": {},
   "outputs": [
    {
     "data": {
      "image/png": "[encoded data removed]",
      "text/plain": [
       "<Figure size 1440x720 with 1 Axes>"
      ]
     },
     "metadata": {},
     "output_type": "display_data"
    }
   ],
   "source": [
    "data = income_county_agg.sort_values('approx_avg_income')\n",
    "plt.figure(figsize = (20,10))\n",
    "plt.bar('county', 'approx_avg_income', data = data, color = 'skyblue')\n",
    "plt.xticks(rotation = 90)\n",
    "plt.ylabel('Average Income', fontsize=15)\n",
    "plt.grid(False)\n",
    "plt.title('Number of Siblings', fontsize=15);"
   ]
  },
  {
   "cell_type": "code",
   "execution_count": 45,
   "metadata": {},
   "outputs": [
    {
     "data": {
      "text/html": [
       "<div>\n",
       "<style scoped>\n",
       "    .dataframe tbody tr th:only-of-type {\n",
       "        vertical-align: middle;\n",
       "    }\n",
       "\n",
       "    .dataframe tbody tr th {\n",
       "        vertical-align: top;\n",
       "    }\n",
       "\n",
       "    .dataframe thead th {\n",
       "        text-align: right;\n",
       "    }\n",
       "</style>\n",
       "<table border=\"1\" class=\"dataframe\">\n",
       "  <thead>\n",
       "    <tr style=\"text-align: right;\">\n",
       "      <th></th>\n",
       "      <th>county</th>\n",
       "      <th>return_count</th>\n",
       "      <th>single_returns</th>\n",
       "      <th>joint_returns</th>\n",
       "      <th>head_of_house_returns</th>\n",
       "      <th>exemptions</th>\n",
       "      <th>dependents</th>\n",
       "      <th>elderly</th>\n",
       "      <th>agi</th>\n",
       "      <th>returns_with_total_inc</th>\n",
       "      <th>total_inc_amt</th>\n",
       "      <th>returns_with_unemployment</th>\n",
       "      <th>unemployment_comp</th>\n",
       "      <th>approx_avg_income</th>\n",
       "    </tr>\n",
       "  </thead>\n",
       "  <tbody>\n",
       "    <tr>\n",
       "      <th>0</th>\n",
       "      <td>Anderson County</td>\n",
       "      <td>34290</td>\n",
       "      <td>14990</td>\n",
       "      <td>14030</td>\n",
       "      <td>4550</td>\n",
       "      <td>65950</td>\n",
       "      <td>19620</td>\n",
       "      <td>9670</td>\n",
       "      <td>1807309</td>\n",
       "      <td>34140</td>\n",
       "      <td>1830482</td>\n",
       "      <td>700</td>\n",
       "      <td>2452</td>\n",
       "      <td>53382.385535</td>\n",
       "    </tr>\n",
       "    <tr>\n",
       "      <th>1</th>\n",
       "      <td>Bedford County</td>\n",
       "      <td>20920</td>\n",
       "      <td>8600</td>\n",
       "      <td>8010</td>\n",
       "      <td>3910</td>\n",
       "      <td>43550</td>\n",
       "      <td>15790</td>\n",
       "      <td>4430</td>\n",
       "      <td>971152</td>\n",
       "      <td>20840</td>\n",
       "      <td>985909</td>\n",
       "      <td>410</td>\n",
       "      <td>1023</td>\n",
       "      <td>47127.581262</td>\n",
       "    </tr>\n",
       "    <tr>\n",
       "      <th>2</th>\n",
       "      <td>Benton County</td>\n",
       "      <td>6610</td>\n",
       "      <td>2660</td>\n",
       "      <td>2840</td>\n",
       "      <td>1000</td>\n",
       "      <td>13020</td>\n",
       "      <td>3890</td>\n",
       "      <td>2000</td>\n",
       "      <td>269227</td>\n",
       "      <td>6580</td>\n",
       "      <td>272971</td>\n",
       "      <td>360</td>\n",
       "      <td>1119</td>\n",
       "      <td>41296.671710</td>\n",
       "    </tr>\n",
       "    <tr>\n",
       "      <th>3</th>\n",
       "      <td>Bledsoe County</td>\n",
       "      <td>4560</td>\n",
       "      <td>1620</td>\n",
       "      <td>2220</td>\n",
       "      <td>610</td>\n",
       "      <td>9690</td>\n",
       "      <td>3100</td>\n",
       "      <td>1200</td>\n",
       "      <td>178860</td>\n",
       "      <td>4540</td>\n",
       "      <td>181231</td>\n",
       "      <td>160</td>\n",
       "      <td>458</td>\n",
       "      <td>39743.640351</td>\n",
       "    </tr>\n",
       "    <tr>\n",
       "      <th>4</th>\n",
       "      <td>Blount County</td>\n",
       "      <td>59550</td>\n",
       "      <td>25090</td>\n",
       "      <td>26650</td>\n",
       "      <td>6550</td>\n",
       "      <td>115820</td>\n",
       "      <td>33400</td>\n",
       "      <td>16880</td>\n",
       "      <td>3333654</td>\n",
       "      <td>59350</td>\n",
       "      <td>3381616</td>\n",
       "      <td>1190</td>\n",
       "      <td>3551</td>\n",
       "      <td>56786.162888</td>\n",
       "    </tr>\n",
       "    <tr>\n",
       "      <th>...</th>\n",
       "      <td>...</td>\n",
       "      <td>...</td>\n",
       "      <td>...</td>\n",
       "      <td>...</td>\n",
       "      <td>...</td>\n",
       "      <td>...</td>\n",
       "      <td>...</td>\n",
       "      <td>...</td>\n",
       "      <td>...</td>\n",
       "      <td>...</td>\n",
       "      <td>...</td>\n",
       "      <td>...</td>\n",
       "      <td>...</td>\n",
       "      <td>...</td>\n",
       "    </tr>\n",
       "    <tr>\n",
       "      <th>91</th>\n",
       "      <td>Wayne County</td>\n",
       "      <td>5730</td>\n",
       "      <td>2150</td>\n",
       "      <td>2720</td>\n",
       "      <td>810</td>\n",
       "      <td>11830</td>\n",
       "      <td>3690</td>\n",
       "      <td>1430</td>\n",
       "      <td>240866</td>\n",
       "      <td>5700</td>\n",
       "      <td>243850</td>\n",
       "      <td>290</td>\n",
       "      <td>987</td>\n",
       "      <td>42556.719023</td>\n",
       "    </tr>\n",
       "    <tr>\n",
       "      <th>92</th>\n",
       "      <td>Weakley County</td>\n",
       "      <td>12850</td>\n",
       "      <td>5440</td>\n",
       "      <td>5360</td>\n",
       "      <td>1800</td>\n",
       "      <td>25130</td>\n",
       "      <td>7820</td>\n",
       "      <td>3320</td>\n",
       "      <td>563374</td>\n",
       "      <td>12810</td>\n",
       "      <td>572176</td>\n",
       "      <td>600</td>\n",
       "      <td>1449</td>\n",
       "      <td>44527.315175</td>\n",
       "    </tr>\n",
       "    <tr>\n",
       "      <th>93</th>\n",
       "      <td>White County</td>\n",
       "      <td>11030</td>\n",
       "      <td>4430</td>\n",
       "      <td>4900</td>\n",
       "      <td>1510</td>\n",
       "      <td>22230</td>\n",
       "      <td>6900</td>\n",
       "      <td>2790</td>\n",
       "      <td>438258</td>\n",
       "      <td>10990</td>\n",
       "      <td>444471</td>\n",
       "      <td>360</td>\n",
       "      <td>770</td>\n",
       "      <td>40296.554850</td>\n",
       "    </tr>\n",
       "    <tr>\n",
       "      <th>94</th>\n",
       "      <td>Williamson County</td>\n",
       "      <td>103130</td>\n",
       "      <td>39860</td>\n",
       "      <td>54520</td>\n",
       "      <td>6880</td>\n",
       "      <td>226210</td>\n",
       "      <td>79870</td>\n",
       "      <td>24130</td>\n",
       "      <td>13101310</td>\n",
       "      <td>102890</td>\n",
       "      <td>13383074</td>\n",
       "      <td>1430</td>\n",
       "      <td>5125</td>\n",
       "      <td>129768.971201</td>\n",
       "    </tr>\n",
       "    <tr>\n",
       "      <th>95</th>\n",
       "      <td>Wilson County</td>\n",
       "      <td>64160</td>\n",
       "      <td>26680</td>\n",
       "      <td>29070</td>\n",
       "      <td>6880</td>\n",
       "      <td>128480</td>\n",
       "      <td>40230</td>\n",
       "      <td>15240</td>\n",
       "      <td>4256127</td>\n",
       "      <td>64000</td>\n",
       "      <td>4325080</td>\n",
       "      <td>1010</td>\n",
       "      <td>3424</td>\n",
       "      <td>67410.847880</td>\n",
       "    </tr>\n",
       "  </tbody>\n",
       "</table>\n",
       "<p>95 rows × 14 columns</p>\n",
       "</div>"
      ],
      "text/plain": [
       "               county  return_count  single_returns  joint_returns  \\\n",
       "0     Anderson County         34290           14990          14030   \n",
       "1      Bedford County         20920            8600           8010   \n",
       "2       Benton County          6610            2660           2840   \n",
       "3      Bledsoe County          4560            1620           2220   \n",
       "4       Blount County         59550           25090          26650   \n",
       "..                ...           ...             ...            ...   \n",
       "91       Wayne County          5730            2150           2720   \n",
       "92     Weakley County         12850            5440           5360   \n",
       "93       White County         11030            4430           4900   \n",
       "94  Williamson County        103130           39860          54520   \n",
       "95      Wilson County         64160           26680          29070   \n",
       "\n",
       "    head_of_house_returns  exemptions  dependents  elderly       agi  \\\n",
       "0                    4550       65950       19620     9670   1807309   \n",
       "1                    3910       43550       15790     4430    971152   \n",
       "2                    1000       13020        3890     2000    269227   \n",
       "3                     610        9690        3100     1200    178860   \n",
       "4                    6550      115820       33400    16880   3333654   \n",
       "..                    ...         ...         ...      ...       ...   \n",
       "91                    810       11830        3690     1430    240866   \n",
       "92                   1800       25130        7820     3320    563374   \n",
       "93                   1510       22230        6900     2790    438258   \n",
       "94                   6880      226210       79870    24130  13101310   \n",
       "95                   6880      128480       40230    15240   4256127   \n",
       "\n",
       "    returns_with_total_inc  total_inc_amt  returns_with_unemployment  \\\n",
       "0                    34140        1830482                        700   \n",
       "1                    20840         985909                        410   \n",
       "2                     6580         272971                        360   \n",
       "3                     4540         181231                        160   \n",
       "4                    59350        3381616                       1190   \n",
       "..                     ...            ...                        ...   \n",
       "91                    5700         243850                        290   \n",
       "92                   12810         572176                        600   \n",
       "93                   10990         444471                        360   \n",
       "94                  102890       13383074                       1430   \n",
       "95                   64000        4325080                       1010   \n",
       "\n",
       "    unemployment_comp  approx_avg_income  \n",
       "0                2452       53382.385535  \n",
       "1                1023       47127.581262  \n",
       "2                1119       41296.671710  \n",
       "3                 458       39743.640351  \n",
       "4                3551       56786.162888  \n",
       "..                ...                ...  \n",
       "91                987       42556.719023  \n",
       "92               1449       44527.315175  \n",
       "93                770       40296.554850  \n",
       "94               5125      129768.971201  \n",
       "95               3424       67410.847880  \n",
       "\n",
       "[95 rows x 14 columns]"
      ]
     },
     "execution_count": 45,
     "metadata": {},
     "output_type": "execute_result"
    }
   ],
   "source": [
    "income_county_agg"
   ]
  },
  {
   "cell_type": "code",
   "execution_count": 46,
   "metadata": {},
   "outputs": [
    {
     "data": {
      "text/plain": [
       "county                       Wilson County\n",
       "return_count                        431650\n",
       "single_returns                      205500\n",
       "joint_returns                       104290\n",
       "head_of_house_returns               112920\n",
       "exemptions                          836590\n",
       "dependents                          325450\n",
       "elderly                              86860\n",
       "agi                               25467506\n",
       "returns_with_total_inc              430150\n",
       "total_inc_amt                     25843890\n",
       "returns_with_unemployment             8020\n",
       "unemployment_comp                    26306\n",
       "approx_avg_income                   129769\n",
       "dtype: object"
      ]
     },
     "execution_count": 46,
     "metadata": {},
     "output_type": "execute_result"
    },
    {
     "data": {
      "image/png": "[encoded data removed]",
      "text/plain": [
       "<Figure size 432x288 with 1 Axes>"
      ]
     },
     "metadata": {},
     "output_type": "display_data"
    }
   ],
   "source": [
    "# another way to actually make histogram\n",
    "# with amount of counties as y-axis, and avg income as x-axis\n",
    "data = income_county_agg.sort_values('approx_avg_income')\n",
    "plt.hist('approx_avg_income', data=data)\n",
    "income_county_agg.max() # will tell you which county has the highest avg income"
   ]
  },
  {
   "cell_type": "markdown",
   "metadata": {},
   "source": [
    "### For both tn_cancer_costs and tn_ha_costs, create boxplots and swarmplots comparing the distribution of analysis_value for urban counties vs. rural counties. What do you notice?"
   ]
  },
  {
   "cell_type": "code",
   "execution_count": 47,
   "metadata": {},
   "outputs": [
    {
     "data": {
      "image/png": "[encoded data removed]",
      "text/plain": [
       "<Figure size 432x288 with 1 Axes>"
      ]
     },
     "metadata": {},
     "output_type": "display_data"
    }
   ],
   "source": [
    "sns.swarmplot(x=cancer_costs_tn.urban, y=cancer_costs_tn.analysis_value, palette = 'rocket')\n",
    "plt.grid(False)\n",
    "plt.title('distribution of analysis_value cancer costs')\n",
    "plt.xlabel('');"
   ]
  },
  {
   "cell_type": "code",
   "execution_count": 48,
   "metadata": {},
   "outputs": [
    {
     "data": {
      "image/png": "[encoded data removed]",
      "text/plain": [
       "<Figure size 432x288 with 1 Axes>"
      ]
     },
     "metadata": {},
     "output_type": "display_data"
    }
   ],
   "source": [
    "# can overlay swarmplot on boxplot\n",
    "sns.boxplot(y=cancer_costs_tn.analysis_value, x = cancer_costs_tn.urban, palette = \"GnBu\" )\n",
    "sns.swarmplot(x=cancer_costs_tn.urban, y=cancer_costs_tn.analysis_value, palette = 'rocket')\n",
    "plt.xlabel('');\n"
   ]
  },
  {
   "cell_type": "code",
   "execution_count": 49,
   "metadata": {},
   "outputs": [
    {
     "data": {
      "image/png": "[encoded data removed]",
      "text/plain": [
       "<Figure size 432x288 with 1 Axes>"
      ]
     },
     "metadata": {},
     "output_type": "display_data"
    }
   ],
   "source": [
    "sns.swarmplot(x=ha_costs_tn.urban, y=ha_costs_tn.analysis_value, palette = 'mako')\n",
    "plt.grid(False)\n",
    "plt.title('distribution of analysis_value ha costs')\n",
    "plt.xlabel('');"
   ]
  },
  {
   "cell_type": "code",
   "execution_count": 50,
   "metadata": {},
   "outputs": [
    {
     "data": {
      "image/png": "[encoded data removed]",
      "text/plain": [
       "<Figure size 432x288 with 1 Axes>"
      ]
     },
     "metadata": {},
     "output_type": "display_data"
    }
   ],
   "source": [
    "sns.boxplot(y=cancer_costs_tn.analysis_value, x = cancer_costs_tn.urban, palette = \"GnBu\" )\n",
    "plt.title('distribution of analysis_value cancer costs')\n",
    "plt.xlabel('');"
   ]
  },
  {
   "cell_type": "code",
   "execution_count": 53,
   "metadata": {},
   "outputs": [
    {
     "data": {
      "image/png": "[encoded data removed]",
      "text/plain": [
       "<Figure size 432x288 with 1 Axes>"
      ]
     },
     "metadata": {},
     "output_type": "display_data"
    }
   ],
   "source": [
    "sns.boxplot(y=ha_costs_tn.analysis_value, x = ha_costs_tn.urban, palette = \"mako\")\n",
    "plt.title('distribution of analysis_value ha costs')\n",
    "plt.xlabel('');"
   ]
  },
  {
   "cell_type": "markdown",
   "metadata": {},
   "source": [
    "# Week 4"
   ]
  },
  {
   "cell_type": "markdown",
   "metadata": {},
   "source": [
    "### In the tn_ha_costs DataFrame, rename the analysis_value column to ha_avg_cost. Similarly, in the tn_cancer_costs DataFrame, rename the analysis_value column to cancer_avg_cost.\n",
    "\n"
   ]
  },
  {
   "cell_type": "markdown",
   "metadata": {},
   "source": [
    "### Create a new dataframe, tn_df by merging the county, urban, and cancer_avg_cost columns from tn_cancer_costs with the county and ha_avg_cost column from tn_ha_costs. Make sure that the resulting DataFrame contains just the counties that are in both tn_cancer_costs and tn_ha_costs"
   ]
  },
  {
   "cell_type": "markdown",
   "metadata": {},
   "source": [
    "### Create a scatterplot comparing the average cost of a heart attack to the average cost for cancer for each county. What do you notice?"
   ]
  },
  {
   "cell_type": "markdown",
   "metadata": {},
   "source": [
    "### Merge the avg_income column from income_county_agg with tn_df and save the result back to tn_df. Create two new columns, ha_cost_income_ratio and cancer_cost_income_ratio by dividing ha_avg_cost and cancer_avg_cost respectively by avg_income"
   ]
  },
  {
   "cell_type": "markdown",
   "metadata": {},
   "source": [
    "### Create two choropleths showing the cost income ratios you calculated in the previous part. What do you notice?"
   ]
  },
  {
   "cell_type": "code",
   "execution_count": null,
   "metadata": {},
   "outputs": [],
   "source": []
  }
 ],
 "metadata": {
  "kernelspec": {
   "display_name": "Python 3",
   "language": "python",
   "name": "python3"
  },
  "language_info": {
   "codemirror_mode": {
    "name": "ipython",
    "version": 3
   },
   "file_extension": ".py",
   "mimetype": "text/x-python",
   "name": "python",
   "nbconvert_exporter": "python",
   "pygments_lexer": "ipython3",
   "version": "3.7.6"
  }
 },
 "nbformat": 4,
 "nbformat_minor": 4
}
